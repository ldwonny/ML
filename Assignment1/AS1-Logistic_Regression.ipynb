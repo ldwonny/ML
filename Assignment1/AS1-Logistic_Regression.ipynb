{
 "cells": [
  {
   "cell_type": "markdown",
   "metadata": {
    "id": "t6j5WcA3GbSk"
   },
   "source": [
    "# M2608.002900 기계학습 기초 <br> Assignment 1: Logistic Regression"
   ]
  },
  {
   "cell_type": "markdown",
   "metadata": {
    "id": "h9SLZYvrD1cm"
   },
   "source": [
    "# Setup\n",
    "Check that Python 3.5 or later is installed (although Python 2.x may work, it is deprecated so we strongly recommend you use Python 3 instead), as well as Scikit-Learn 0.20 or later is installed."
   ]
  },
  {
   "cell_type": "code",
   "execution_count": 1,
   "metadata": {},
   "outputs": [
    {
     "name": "stdout",
     "output_type": "stream",
     "text": [
      "Collecting torchvision\n",
      "  Downloading torchvision-0.21.0-cp313-cp313-win_amd64.whl.metadata (6.3 kB)\n",
      "Collecting numpy (from torchvision)\n",
      "  Downloading numpy-2.2.4-cp313-cp313-win_amd64.whl.metadata (60 kB)\n",
      "Collecting torch==2.6.0 (from torchvision)\n",
      "  Downloading torch-2.6.0-cp313-cp313-win_amd64.whl.metadata (28 kB)\n",
      "Collecting pillow!=8.3.*,>=5.3.0 (from torchvision)\n",
      "  Downloading pillow-11.1.0-cp313-cp313-win_amd64.whl.metadata (9.3 kB)\n",
      "Collecting filelock (from torch==2.6.0->torchvision)\n",
      "  Downloading filelock-3.18.0-py3-none-any.whl.metadata (2.9 kB)\n",
      "Requirement already satisfied: typing-extensions>=4.10.0 in c:\\users\\wonny\\appdata\\local\\programs\\python\\python313\\lib\\site-packages (from torch==2.6.0->torchvision) (4.13.0)\n",
      "Collecting networkx (from torch==2.6.0->torchvision)\n",
      "  Downloading networkx-3.4.2-py3-none-any.whl.metadata (6.3 kB)\n",
      "Requirement already satisfied: jinja2 in c:\\users\\wonny\\appdata\\local\\programs\\python\\python313\\lib\\site-packages (from torch==2.6.0->torchvision) (3.1.6)\n",
      "Collecting fsspec (from torch==2.6.0->torchvision)\n",
      "  Downloading fsspec-2025.3.2-py3-none-any.whl.metadata (11 kB)\n",
      "Requirement already satisfied: setuptools in c:\\users\\wonny\\appdata\\local\\programs\\python\\python313\\lib\\site-packages (from torch==2.6.0->torchvision) (78.1.0)\n",
      "Collecting sympy==1.13.1 (from torch==2.6.0->torchvision)\n",
      "  Downloading sympy-1.13.1-py3-none-any.whl.metadata (12 kB)\n",
      "Collecting mpmath<1.4,>=1.1.0 (from sympy==1.13.1->torch==2.6.0->torchvision)\n",
      "  Downloading mpmath-1.3.0-py3-none-any.whl.metadata (8.6 kB)\n",
      "Requirement already satisfied: MarkupSafe>=2.0 in c:\\users\\wonny\\appdata\\local\\programs\\python\\python313\\lib\\site-packages (from jinja2->torch==2.6.0->torchvision) (3.0.2)\n",
      "Downloading torchvision-0.21.0-cp313-cp313-win_amd64.whl (1.6 MB)\n",
      "   ---------------------------------------- 0.0/1.6 MB ? eta -:--:--\n",
      "   ---------------------------------------- 1.6/1.6 MB 7.9 MB/s eta 0:00:00\n",
      "Downloading torch-2.6.0-cp313-cp313-win_amd64.whl (204.1 MB)\n",
      "   ---------------------------------------- 0.0/204.1 MB ? eta -:--:--\n",
      "   ---------------------------------------- 1.8/204.1 MB 9.1 MB/s eta 0:00:23\n",
      "    --------------------------------------- 3.1/204.1 MB 8.2 MB/s eta 0:00:25\n",
      "   - -------------------------------------- 5.2/204.1 MB 8.6 MB/s eta 0:00:24\n",
      "   - -------------------------------------- 7.1/204.1 MB 8.7 MB/s eta 0:00:23\n",
      "   - -------------------------------------- 9.2/204.1 MB 8.9 MB/s eta 0:00:22\n",
      "   -- ------------------------------------- 11.0/204.1 MB 9.0 MB/s eta 0:00:22\n",
      "   -- ------------------------------------- 12.3/204.1 MB 8.7 MB/s eta 0:00:22\n",
      "   -- ------------------------------------- 13.4/204.1 MB 8.3 MB/s eta 0:00:24\n",
      "   -- ------------------------------------- 14.9/204.1 MB 8.2 MB/s eta 0:00:24\n",
      "   --- ------------------------------------ 17.0/204.1 MB 8.3 MB/s eta 0:00:23\n",
      "   --- ------------------------------------ 18.9/204.1 MB 8.4 MB/s eta 0:00:22\n",
      "   ---- ----------------------------------- 21.0/204.1 MB 8.5 MB/s eta 0:00:22\n",
      "   ---- ----------------------------------- 22.8/204.1 MB 8.6 MB/s eta 0:00:22\n",
      "   ---- ----------------------------------- 25.2/204.1 MB 8.7 MB/s eta 0:00:21\n",
      "   ----- ---------------------------------- 27.0/204.1 MB 8.7 MB/s eta 0:00:21\n",
      "   ----- ---------------------------------- 29.1/204.1 MB 8.8 MB/s eta 0:00:20\n",
      "   ------ --------------------------------- 30.9/204.1 MB 8.8 MB/s eta 0:00:20\n",
      "   ------ --------------------------------- 33.0/204.1 MB 8.9 MB/s eta 0:00:20\n",
      "   ------ --------------------------------- 35.1/204.1 MB 8.9 MB/s eta 0:00:19\n",
      "   ------- -------------------------------- 37.2/204.1 MB 9.0 MB/s eta 0:00:19\n",
      "   ------- -------------------------------- 39.1/204.1 MB 9.0 MB/s eta 0:00:19\n",
      "   -------- ------------------------------- 41.2/204.1 MB 9.0 MB/s eta 0:00:19\n",
      "   -------- ------------------------------- 43.0/204.1 MB 9.0 MB/s eta 0:00:18\n",
      "   -------- ------------------------------- 45.1/204.1 MB 9.0 MB/s eta 0:00:18\n",
      "   --------- ------------------------------ 46.9/204.1 MB 9.1 MB/s eta 0:00:18\n",
      "   --------- ------------------------------ 49.0/204.1 MB 9.1 MB/s eta 0:00:18\n",
      "   --------- ------------------------------ 50.9/204.1 MB 9.1 MB/s eta 0:00:17\n",
      "   ---------- ----------------------------- 53.2/204.1 MB 9.1 MB/s eta 0:00:17\n",
      "   ---------- ----------------------------- 55.3/204.1 MB 9.1 MB/s eta 0:00:17\n",
      "   ----------- ---------------------------- 57.1/204.1 MB 9.2 MB/s eta 0:00:17\n",
      "   ----------- ---------------------------- 59.2/204.1 MB 9.1 MB/s eta 0:00:16\n",
      "   ------------ --------------------------- 61.3/204.1 MB 9.2 MB/s eta 0:00:16\n",
      "   ------------ --------------------------- 63.4/204.1 MB 9.2 MB/s eta 0:00:16\n",
      "   ------------ --------------------------- 65.3/204.1 MB 9.2 MB/s eta 0:00:16\n",
      "   ------------- -------------------------- 67.1/204.1 MB 9.2 MB/s eta 0:00:15\n",
      "   ------------- -------------------------- 67.9/204.1 MB 9.0 MB/s eta 0:00:16\n",
      "   ------------- -------------------------- 69.5/204.1 MB 9.0 MB/s eta 0:00:15\n",
      "   ------------- -------------------------- 70.8/204.1 MB 8.9 MB/s eta 0:00:15\n",
      "   -------------- ------------------------- 72.1/204.1 MB 8.9 MB/s eta 0:00:15\n",
      "   -------------- ------------------------- 73.4/204.1 MB 8.8 MB/s eta 0:00:15\n",
      "   -------------- ------------------------- 75.2/204.1 MB 8.8 MB/s eta 0:00:15\n",
      "   --------------- ------------------------ 77.3/204.1 MB 8.8 MB/s eta 0:00:15\n",
      "   --------------- ------------------------ 79.4/204.1 MB 8.8 MB/s eta 0:00:15\n",
      "   --------------- ------------------------ 81.3/204.1 MB 8.9 MB/s eta 0:00:14\n",
      "   ---------------- ----------------------- 83.4/204.1 MB 8.9 MB/s eta 0:00:14\n",
      "   ---------------- ----------------------- 84.9/204.1 MB 8.8 MB/s eta 0:00:14\n",
      "   ---------------- ----------------------- 86.2/204.1 MB 8.8 MB/s eta 0:00:14\n",
      "   ----------------- ---------------------- 87.8/204.1 MB 8.8 MB/s eta 0:00:14\n",
      "   ----------------- ---------------------- 89.9/204.1 MB 8.8 MB/s eta 0:00:13\n",
      "   ----------------- ---------------------- 91.8/204.1 MB 8.8 MB/s eta 0:00:13\n",
      "   ------------------ --------------------- 92.8/204.1 MB 8.7 MB/s eta 0:00:13\n",
      "   ------------------ --------------------- 94.4/204.1 MB 8.7 MB/s eta 0:00:13\n",
      "   ------------------ --------------------- 96.2/204.1 MB 8.7 MB/s eta 0:00:13\n",
      "   ------------------- -------------------- 98.0/204.1 MB 8.7 MB/s eta 0:00:13\n",
      "   ------------------- -------------------- 99.9/204.1 MB 8.7 MB/s eta 0:00:12\n",
      "   ------------------- -------------------- 101.2/204.1 MB 8.7 MB/s eta 0:00:12\n",
      "   -------------------- ------------------- 103.3/204.1 MB 8.7 MB/s eta 0:00:12\n",
      "   -------------------- ------------------- 105.4/204.1 MB 8.7 MB/s eta 0:00:12\n",
      "   --------------------- ------------------ 107.5/204.1 MB 8.7 MB/s eta 0:00:12\n",
      "   --------------------- ------------------ 109.3/204.1 MB 8.7 MB/s eta 0:00:11\n",
      "   --------------------- ------------------ 111.1/204.1 MB 8.7 MB/s eta 0:00:11\n",
      "   ---------------------- ----------------- 113.2/204.1 MB 8.7 MB/s eta 0:00:11\n",
      "   ---------------------- ----------------- 115.1/204.1 MB 8.7 MB/s eta 0:00:11\n",
      "   ---------------------- ----------------- 116.9/204.1 MB 8.8 MB/s eta 0:00:10\n",
      "   ----------------------- ---------------- 118.8/204.1 MB 8.8 MB/s eta 0:00:10\n",
      "   ----------------------- ---------------- 120.6/204.1 MB 8.8 MB/s eta 0:00:10\n",
      "   ----------------------- ---------------- 122.4/204.1 MB 8.8 MB/s eta 0:00:10\n",
      "   ------------------------ --------------- 124.5/204.1 MB 8.8 MB/s eta 0:00:10\n",
      "   ------------------------ --------------- 126.4/204.1 MB 8.8 MB/s eta 0:00:09\n",
      "   ------------------------- -------------- 128.5/204.1 MB 8.8 MB/s eta 0:00:09\n",
      "   ------------------------- -------------- 130.0/204.1 MB 8.8 MB/s eta 0:00:09\n",
      "   ------------------------- -------------- 132.1/204.1 MB 8.8 MB/s eta 0:00:09\n",
      "   -------------------------- ------------- 134.0/204.1 MB 8.8 MB/s eta 0:00:08\n",
      "   -------------------------- ------------- 136.1/204.1 MB 8.8 MB/s eta 0:00:08\n",
      "   --------------------------- ------------ 138.1/204.1 MB 8.8 MB/s eta 0:00:08\n",
      "   --------------------------- ------------ 140.0/204.1 MB 8.8 MB/s eta 0:00:08\n",
      "   --------------------------- ------------ 141.6/204.1 MB 8.8 MB/s eta 0:00:08\n",
      "   ---------------------------- ----------- 143.4/204.1 MB 8.8 MB/s eta 0:00:07\n",
      "   ---------------------------- ----------- 145.0/204.1 MB 8.8 MB/s eta 0:00:07\n",
      "   ---------------------------- ----------- 146.0/204.1 MB 8.7 MB/s eta 0:00:07\n",
      "   ---------------------------- ----------- 147.8/204.1 MB 8.7 MB/s eta 0:00:07\n",
      "   ----------------------------- ---------- 149.7/204.1 MB 8.7 MB/s eta 0:00:07\n",
      "   ----------------------------- ---------- 151.8/204.1 MB 8.8 MB/s eta 0:00:06\n",
      "   ------------------------------ --------- 153.6/204.1 MB 8.8 MB/s eta 0:00:06\n",
      "   ------------------------------ --------- 155.5/204.1 MB 8.8 MB/s eta 0:00:06\n",
      "   ------------------------------ --------- 157.5/204.1 MB 8.8 MB/s eta 0:00:06\n",
      "   ------------------------------- -------- 159.4/204.1 MB 8.8 MB/s eta 0:00:06\n",
      "   ------------------------------- -------- 161.5/204.1 MB 8.8 MB/s eta 0:00:05\n",
      "   -------------------------------- ------- 163.6/204.1 MB 8.8 MB/s eta 0:00:05\n",
      "   -------------------------------- ------- 165.2/204.1 MB 8.8 MB/s eta 0:00:05\n",
      "   -------------------------------- ------- 166.5/204.1 MB 8.8 MB/s eta 0:00:05\n",
      "   -------------------------------- ------- 167.5/204.1 MB 8.7 MB/s eta 0:00:05\n",
      "   --------------------------------- ------ 168.6/204.1 MB 8.7 MB/s eta 0:00:05\n",
      "   --------------------------------- ------ 169.6/204.1 MB 8.6 MB/s eta 0:00:04\n",
      "   --------------------------------- ------ 171.2/204.1 MB 8.6 MB/s eta 0:00:04\n",
      "   --------------------------------- ------ 172.5/204.1 MB 8.6 MB/s eta 0:00:04\n",
      "   ---------------------------------- ----- 173.5/204.1 MB 8.6 MB/s eta 0:00:04\n",
      "   ---------------------------------- ----- 174.6/204.1 MB 8.5 MB/s eta 0:00:04\n",
      "   ---------------------------------- ----- 175.6/204.1 MB 8.5 MB/s eta 0:00:04\n",
      "   ---------------------------------- ----- 176.7/204.1 MB 8.5 MB/s eta 0:00:04\n",
      "   ---------------------------------- ----- 177.7/204.1 MB 8.4 MB/s eta 0:00:04\n",
      "   ---------------------------------- ----- 178.5/204.1 MB 8.4 MB/s eta 0:00:04\n",
      "   ----------------------------------- ---- 179.8/204.1 MB 8.4 MB/s eta 0:00:03\n",
      "   ----------------------------------- ---- 181.1/204.1 MB 8.4 MB/s eta 0:00:03\n",
      "   ----------------------------------- ---- 182.2/204.1 MB 8.3 MB/s eta 0:00:03\n",
      "   ----------------------------------- ---- 183.2/204.1 MB 8.3 MB/s eta 0:00:03\n",
      "   ------------------------------------ --- 184.8/204.1 MB 8.3 MB/s eta 0:00:03\n",
      "   ------------------------------------ --- 185.9/204.1 MB 8.3 MB/s eta 0:00:03\n",
      "   ------------------------------------ --- 186.9/204.1 MB 8.2 MB/s eta 0:00:03\n",
      "   ------------------------------------ --- 188.0/204.1 MB 8.2 MB/s eta 0:00:02\n",
      "   ------------------------------------- -- 189.8/204.1 MB 8.2 MB/s eta 0:00:02\n",
      "   ------------------------------------- -- 190.6/204.1 MB 8.2 MB/s eta 0:00:02\n",
      "   ------------------------------------- -- 191.9/204.1 MB 8.1 MB/s eta 0:00:02\n",
      "   ------------------------------------- -- 193.5/204.1 MB 8.1 MB/s eta 0:00:02\n",
      "   -------------------------------------- - 194.2/204.1 MB 8.1 MB/s eta 0:00:02\n",
      "   -------------------------------------- - 195.6/204.1 MB 8.1 MB/s eta 0:00:02\n",
      "   -------------------------------------- - 196.9/204.1 MB 8.1 MB/s eta 0:00:01\n",
      "   -------------------------------------- - 197.9/204.1 MB 8.0 MB/s eta 0:00:01\n",
      "   -------------------------------------- - 199.0/204.1 MB 8.0 MB/s eta 0:00:01\n",
      "   ---------------------------------------  200.0/204.1 MB 8.0 MB/s eta 0:00:01\n",
      "   ---------------------------------------  201.6/204.1 MB 8.0 MB/s eta 0:00:01\n",
      "   ---------------------------------------  203.2/204.1 MB 8.0 MB/s eta 0:00:01\n",
      "   ---------------------------------------  203.9/204.1 MB 8.0 MB/s eta 0:00:01\n",
      "   ---------------------------------------- 204.1/204.1 MB 7.9 MB/s eta 0:00:00\n",
      "Downloading sympy-1.13.1-py3-none-any.whl (6.2 MB)\n",
      "   ---------------------------------------- 0.0/6.2 MB ? eta -:--:--\n",
      "   ---------- ----------------------------- 1.6/6.2 MB 7.7 MB/s eta 0:00:01\n",
      "   -------------------- ------------------- 3.1/6.2 MB 7.6 MB/s eta 0:00:01\n",
      "   --------------------------- ------------ 4.2/6.2 MB 6.7 MB/s eta 0:00:01\n",
      "   --------------------------------- ------ 5.2/6.2 MB 6.5 MB/s eta 0:00:01\n",
      "   -------------------------------------- - 6.0/6.2 MB 5.6 MB/s eta 0:00:01\n",
      "   ---------------------------------------- 6.2/6.2 MB 5.5 MB/s eta 0:00:00\n",
      "Downloading pillow-11.1.0-cp313-cp313-win_amd64.whl (2.6 MB)\n",
      "   ---------------------------------------- 0.0/2.6 MB ? eta -:--:--\n",
      "   --------------- ------------------------ 1.0/2.6 MB 5.4 MB/s eta 0:00:01\n",
      "   ----------------------------------- ---- 2.4/2.6 MB 6.5 MB/s eta 0:00:01\n",
      "   ---------------------------------------- 2.6/2.6 MB 6.1 MB/s eta 0:00:00\n",
      "Downloading numpy-2.2.4-cp313-cp313-win_amd64.whl (12.6 MB)\n",
      "   ---------------------------------------- 0.0/12.6 MB ? eta -:--:--\n",
      "   ---- ----------------------------------- 1.3/12.6 MB 6.5 MB/s eta 0:00:02\n",
      "   -------- ------------------------------- 2.6/12.6 MB 7.3 MB/s eta 0:00:02\n",
      "   ------------ --------------------------- 3.9/12.6 MB 6.7 MB/s eta 0:00:02\n",
      "   ---------------- ----------------------- 5.2/12.6 MB 6.6 MB/s eta 0:00:02\n",
      "   ---------------------- ----------------- 7.1/12.6 MB 7.0 MB/s eta 0:00:01\n",
      "   --------------------------- ------------ 8.7/12.6 MB 7.1 MB/s eta 0:00:01\n",
      "   --------------------------------- ------ 10.5/12.6 MB 7.3 MB/s eta 0:00:01\n",
      "   ------------------------------------- -- 11.8/12.6 MB 7.2 MB/s eta 0:00:01\n",
      "   ---------------------------------------- 12.6/12.6 MB 7.0 MB/s eta 0:00:00\n",
      "Downloading filelock-3.18.0-py3-none-any.whl (16 kB)\n",
      "Downloading fsspec-2025.3.2-py3-none-any.whl (194 kB)\n",
      "Downloading networkx-3.4.2-py3-none-any.whl (1.7 MB)\n",
      "   ---------------------------------------- 0.0/1.7 MB ? eta -:--:--\n",
      "   ------------------------------ --------- 1.3/1.7 MB 7.5 MB/s eta 0:00:01\n",
      "   ---------------------------------------- 1.7/1.7 MB 6.4 MB/s eta 0:00:00\n",
      "Downloading mpmath-1.3.0-py3-none-any.whl (536 kB)\n",
      "   ---------------------------------------- 0.0/536.2 kB ? eta -:--:--\n",
      "   ---------------------------------------- 536.2/536.2 kB 4.4 MB/s eta 0:00:00\n",
      "Installing collected packages: mpmath, sympy, pillow, numpy, networkx, fsspec, filelock, torch, torchvision\n",
      "Successfully installed filelock-3.18.0 fsspec-2025.3.2 mpmath-1.3.0 networkx-3.4.2 numpy-2.2.4 pillow-11.1.0 sympy-1.13.1 torch-2.6.0 torchvision-0.21.0\n"
     ]
    },
    {
     "name": "stderr",
     "output_type": "stream",
     "text": [
      "\n",
      "[notice] A new release of pip is available: 24.3.1 -> 25.0.1\n",
      "[notice] To update, run: python.exe -m pip install --upgrade pip\n"
     ]
    }
   ],
   "source": [
    "# Install required library (might take a while)\n",
    "!pip install torchvision"
   ]
  },
  {
   "cell_type": "code",
   "execution_count": 1,
   "metadata": {
    "id": "RABKSi6ED1cm"
   },
   "outputs": [],
   "source": [
    "# Python >=3.5 is required\n",
    "import sys\n",
    "assert sys.version_info >= (3, 5)\n",
    "\n",
    "# Scikit-Learn >=0.20 is required\n",
    "import sklearn\n",
    "assert sklearn.__version__ >= \"0.20\"\n",
    "\n",
    "# Common imports\n",
    "import numpy as np\n",
    "import os\n",
    "\n",
    "# to make this notebook's output stable across runs\n",
    "np.random.seed(42)\n",
    "\n",
    "# To plot pretty figures\n",
    "%matplotlib inline\n",
    "import matplotlib as mpl\n",
    "import matplotlib.pyplot as plt\n",
    "mpl.rc('axes', labelsize=14)\n",
    "mpl.rc('xtick', labelsize=12)\n",
    "mpl.rc('ytick', labelsize=12)"
   ]
  },
  {
   "cell_type": "markdown",
   "metadata": {
    "id": "ei9BMeksGbSn"
   },
   "source": [
    "## Dataset load & Plot"
   ]
  },
  {
   "cell_type": "code",
   "execution_count": 2,
   "metadata": {
    "id": "Vlb19coAGbSo"
   },
   "outputs": [],
   "source": [
    "%matplotlib inline\n",
    "import numpy as np\n",
    "import matplotlib.pyplot as plt\n",
    "from sklearn.linear_model import LogisticRegression\n",
    "from warnings import filterwarnings\n",
    "filterwarnings('ignore')"
   ]
  },
  {
   "cell_type": "code",
   "execution_count": 3,
   "metadata": {
    "id": "xV9Z9RPMGbSt",
    "scrolled": true
   },
   "outputs": [
    {
     "data": {
      "image/png": "[encoded data removed]",
      "text/plain": [
       "<Figure size 640x480 with 1 Axes>"
      ]
     },
     "metadata": {},
     "output_type": "display_data"
    }
   ],
   "source": [
    "data = np.loadtxt('data.csv', delimiter=',')\n",
    "X = data[:, :2]\n",
    "y = data[:, 2]\n",
    "label_mask = np.equal(y, 1)\n",
    "\n",
    "plt.scatter(X[:, 0][label_mask], X[:, 1][label_mask], color='red')\n",
    "plt.scatter(X[:, 0][~label_mask], X[:, 1][~label_mask], color='blue')\n",
    "plt.show()"
   ]
  },
  {
   "cell_type": "markdown",
   "metadata": {
    "id": "kwcWe3pDGbSy"
   },
   "source": [
    "## Problem 0-1. sklearn model로 Logistic Regression 모델 train 시켜보기\n",
    "scikit-learn library의 LogisticRegression 클래스를 이용해 train 시켜 보세요. <br>\n",
    "클래스 인자 및 사용법에 관한 자세한 설명은 scikit-learn 홈페이지의 설명을 참고해 주세요. <br>\n",
    "(참고: https://scikit-learn.org/stable/modules/generated/sklearn.linear_model.LogisticRegression.html)\n",
    "\n",
    "코드 구현에 LLM(Chat-GPT, Gemini, GROK 등)을 보조 도구로 활용하여도 됩니다."
   ]
  },
  {
   "cell_type": "code",
   "execution_count": 8,
   "metadata": {
    "id": "ONWQ_Q5yGbS0"
   },
   "outputs": [],
   "source": [
    "def learn_and_return_weights(X: np.ndarray, y: np.ndarray) -> tuple[np.ndarray, float]:\n",
    "    from sklearn.linear_model import LogisticRegression\n",
    "    # YOUR CODE COMES HERE\n",
    "    # w: coefficient of the model to input features,\n",
    "    # b: bias of the model\n",
    "\n",
    "    model = LogisticRegression()\n",
    "    model.fit(X, y)\n",
    "\n",
    "    w = model.coef_.flatten()\n",
    "    b = model.intercept_[0]\n",
    "    \n",
    "    return w, b"
   ]
  },
  {
   "cell_type": "code",
   "execution_count": 9,
   "metadata": {
    "id": "HkQB55lkGbS3"
   },
   "outputs": [
    {
     "data": {
      "image/png": "[encoded data removed]",
      "text/plain": [
       "<Figure size 640x480 with 1 Axes>"
      ]
     },
     "metadata": {},
     "output_type": "display_data"
    }
   ],
   "source": [
    "def plot_data_and_weights(X, y, w, b):\n",
    "    plt.scatter(X[:, 0][label_mask], X[:, 1][label_mask], color='red')\n",
    "    plt.scatter(X[:, 0][~label_mask], X[:, 1][~label_mask], color='blue')\n",
    "\n",
    "    x_lin = np.arange(20, 70)\n",
    "    y_lin = -(b + w[0] * x_lin) / w[1]\n",
    "\n",
    "    plt.plot(x_lin, y_lin, color='black');\n",
    "    plt.show()\n",
    "\n",
    "w, b = learn_and_return_weights(X, y)\n",
    "plot_data_and_weights(X, y, w, b)"
   ]
  },
  {
   "cell_type": "markdown",
   "metadata": {
    "id": "jKYz83ecGbS6"
   },
   "source": [
    "## Problem 0-2. numpy로 Logistic Regression 구현해보기\n",
    "scikit-learn library를 사용하지 않고 numpy를 활용하여 Logistic Regression을 구현해보세요.\n",
    "\n",
    "코드 구현에 LLM(Chat-GPT, Gemini, GROK 등)을 보조 도구로 활용하여도 됩니다."
   ]
  },
  {
   "cell_type": "code",
   "execution_count": 14,
   "metadata": {
    "id": "eGTRLxvsGbS7"
   },
   "outputs": [],
   "source": [
    "def sigmoid(z: np.ndarray) -> np.ndarray:\n",
    "    # YOUR CODE COMES HERE\n",
    "    s = 1/(1+np.exp(-z))\n",
    "    return s\n",
    "\n",
    "def binary_cross_entropy_loss(y_pred: np.ndarray, target: np.ndarray) -> float:\n",
    "    # YOUR CODE COMES HERE\n",
    "    epsilon = 1e-10\n",
    "    y_pred = np.clip(y_pred, epsilon, 1 - epsilon)\n",
    "    loss = np.mean(-target*np.log(y_pred) - (1-target)*np.log(1-y_pred))\n",
    "    return loss\n",
    "\n",
    "def learn_and_return_weights_numpy(X: np.ndarray, Y: np.ndarray, lr: float = 0.01, iter: int = 100000) -> tuple[np.ndarray, float]:\n",
    "    # YOUR CODE COMES HERE\n",
    "    # w: coefficient of the model to input features,\n",
    "    # b: bias of the model\n",
    "    m, n = X.shape\n",
    "\n",
    "    W = np.zeros(n)\n",
    "    b = 0.0\n",
    "\n",
    "    for _ in range(iter):\n",
    "        z = np.dot(X,W) + b\n",
    "        A = sigmoid(z)\n",
    "        \n",
    "        dW = (1 / m) * np.dot(X.T, (A - Y))  \n",
    "        db = (1 / m) * np.sum(A - Y)\n",
    "        \n",
    "        W -= lr * dW  \n",
    "        b -= lr * db  \n",
    "    \n",
    "    return W, b"
   ]
  },
  {
   "cell_type": "code",
   "execution_count": 15,
   "metadata": {
    "id": "ryO_ItqRGbS_"
   },
   "outputs": [
    {
     "data": {
      "image/png": "[encoded data removed]",
      "text/plain": [
       "<Figure size 640x480 with 1 Axes>"
      ]
     },
     "metadata": {},
     "output_type": "display_data"
    },
    {
     "name": "stdout",
     "output_type": "stream",
     "text": [
      "Binary cross entropy loss: 1.0000000827903711e-10\n"
     ]
    }
   ],
   "source": [
    "w, b = 0, 0\n",
    "w, b = learn_and_return_weights_numpy(X, y)\n",
    "plot_data_and_weights(X, y, w, b)\n",
    "\n",
    "z = np.dot(X, w) + b\n",
    "y_output = sigmoid(z)\n",
    "bce = binary_cross_entropy_loss(y_output,y)\n",
    "if np.isnan(bce) == True:\n",
    "    print('You need to make sure your binary cross entropy loss function is correct,\\nor add a small number (e.g. 1e-10) to the argument of the logarithm to make sure the argument of the logarithm is not zero.')\n",
    "else:\n",
    "    print('Binary cross entropy loss:', bce)"
   ]
  },
  {
   "cell_type": "markdown",
   "metadata": {
    "collapsed": true,
    "id": "v_DaRCDGHJZ5",
    "jupyter": {
     "outputs_hidden": true
    }
   },
   "source": [
    "## Problem 1-1. Logistic Regression으로 multi-class classification 하기: API 활용하기\n",
    "scikit-learn library의 Logistic Regression API를 활용하면 multi-class classification을 간단하게 수행할 수 있습니다.<br>\n",
    "MNIST dataset에 대해 multi-class classification을 위한 Logistic Regression 모델을 학습시키고, test data에 대한 accuracy를 계산해 보세요.\n",
    "\n",
    "**2개 이상의 LLM을 활용하여 코드를 구현하고, 구현 결과를 비교 분석하여 보고서에 작성하세요.**"
   ]
  },
  {
   "cell_type": "code",
   "execution_count": 16,
   "metadata": {
    "id": "JJNyQWnuGbTL"
   },
   "outputs": [
    {
     "name": "stderr",
     "output_type": "stream",
     "text": [
      "100.0%\n",
      "100.0%\n",
      "100.0%\n",
      "100.0%\n"
     ]
    }
   ],
   "source": [
    "def get_dataset():\n",
    "    from torchvision.datasets import MNIST\n",
    "    train_data = MNIST(root = './data', train=True, download=True)\n",
    "    test_data = MNIST(root = './data', train=False, download=True)\n",
    "    x_train = train_data.data.numpy()\n",
    "    y_train = train_data.targets.numpy()\n",
    "    x_test = test_data.data.numpy()\n",
    "    y_test = test_data.targets.numpy()\n",
    "    x_train = x_train.reshape((-1, 28 * 28)).astype(np.float32)\n",
    "    x_test = x_test.reshape((-1, 28 * 28)).astype(np.float32)\n",
    "    return (x_train, y_train), (x_test, y_test)\n",
    "(x_train, y_train), (x_test, y_test) = get_dataset()\n",
    "\n",
    "num_classes = 10"
   ]
  },
  {
   "cell_type": "code",
   "execution_count": 25,
   "metadata": {
    "id": "1Hi81olzGbTT"
   },
   "outputs": [],
   "source": [
    "def learn_mul(X: np.ndarray, y: np.ndarray) -> LogisticRegression:\n",
    "    ################# YOUR CODE COMES HERE ######################\n",
    "    # training and return the multi-class logistic model\n",
    "    lr = LogisticRegression(random_state=42, solver='lbfgs', multi_class='multinomial', max_iter=1000)\n",
    "    lr.fit(X, y)\n",
    "    #############################################################\n",
    "    return lr\n",
    "\n",
    "def inference_mul(x: np.ndarray, lr_model: LogisticRegression) -> np.ndarray:\n",
    "    ################# YOUR CODE COMES HERE ######################\n",
    "    # inference model and return predicted y values\n",
    "    y_pred = lr_model.predict(x)\n",
    "    #############################################################\n",
    "    return y_pred"
   ]
  },
  {
   "cell_type": "code",
   "execution_count": 26,
   "metadata": {
    "id": "bfdTZNUYGbTW"
   },
   "outputs": [
    {
     "name": "stdout",
     "output_type": "stream",
     "text": [
      "Accuracy: 0.9211\n"
     ]
    }
   ],
   "source": [
    "model = learn_mul(x_train, y_train)\n",
    "preds = inference_mul(x_test, model)\n",
    "accuracy = np.sum(preds == y_test) / y_test.shape[0]\n",
    "print('Accuracy:', accuracy)"
   ]
  },
  {
   "cell_type": "markdown",
   "metadata": {
    "collapsed": true,
    "id": "2OLcsStrGbTK",
    "jupyter": {
     "outputs_hidden": true
    }
   },
   "source": [
    "## Problem 1-2. Logistic Regression으로 multi-class classification 하기: Transformation to Binary\n",
    "\n",
    "Logistic Regression은 기본적으로 binary classifier 입니다. 즉, input *X*를 2개의 class로 밖에 분류하지 못합니다.<br>\n",
    "하지만, 이같은 Logistic Regression 모델을 연달아 사용한다면 data를 여러 class로 분류할 수도 있습니다.<br>\n",
    "(참고: https://en.wikipedia.org/wiki/Multiclass_classification#Transformation_to_binary)\n",
    "\n",
    "MNIST dataset을 이용하여 (class 수) 개의 Binary classifier (Logistic Regression)를 'lrs'의 각 원소에 저장한 뒤,<br>\n",
    "학습시킨 모델들을 이용하여 test data에 대한 accuracy를 계산해 보세요.<br>\n",
    "(각 모델의 training iteration은 10회면 충분합니다.)\n",
    "\n",
    "**2개 이상의 LLM을 활용하여 코드를 구현하고, 구현 결과를 비교 분석하여 보고서에 작성하세요.**"
   ]
  },
  {
   "cell_type": "code",
   "execution_count": 29,
   "metadata": {
    "id": "mlYDigjwGbTO"
   },
   "outputs": [],
   "source": [
    "def learn_mul2bin(X: np.ndarray, y: np.ndarray, num_classes: int) -> list[LogisticRegression]:\n",
    "    lrs = []\n",
    "    ordinal = lambda n: \"%d%s\" % (n,\"tsnrhtdd\"[(n/10%10!=1)*(n%10<4)*n%10::4])\n",
    "    for i in range(num_classes):\n",
    "        print('training %s classifier'%(ordinal(i+1)))\n",
    "        ################# YOUR CODE COMES HERE ######################\n",
    "        # training and return the multi-class logistic model\n",
    "        y_binary = (y.astype(int) == i).astype(int)  # 현재 클래스에 대한 이진 레이블 생성\n",
    "        lr = LogisticRegression(random_state=42, max_iter=10) # 이진 로지스틱 회귀 모델 생성 및 학습\n",
    "        lr.fit(X, y_binary)\n",
    "        lrs.append(lr)\n",
    "        #############################################################\n",
    "    return lrs\n",
    "\n",
    "def inference_mul2bin(X: np.ndarray, lrs: list[LogisticRegression]) -> int:\n",
    "    ################# YOUR CODE COMES HERE ######################\n",
    "    # inference model and return predicted y values\n",
    "    predictions = []\n",
    "    for lr in lrs:\n",
    "        predictions.append(lr.predict_proba(X)[:, 1]) # 각 모델의 예측 확률 계산\n",
    "    y_pred = np.argmax(np.array(predictions).T, axis=1) # 가장 높은 확률을 갖는 클래스 선택\n",
    "    #############################################################\n",
    "    return y_pred"
   ]
  },
  {
   "cell_type": "code",
   "execution_count": 30,
   "metadata": {
    "id": "tKF3C-4OGbTR"
   },
   "outputs": [
    {
     "name": "stdout",
     "output_type": "stream",
     "text": [
      "training 1st classifier\n",
      "training 2nd classifier\n",
      "training 3rd classifier\n",
      "training 4th classifier\n",
      "training 5th classifier\n",
      "training 6th classifier\n",
      "training 7th classifier\n",
      "training 8th classifier\n",
      "training 9th classifier\n",
      "training 10th classifier\n"
     ]
    },
    {
     "ename": "ValueError",
     "evalue": "Expected 2D array, got 1D array instead:\narray=[  0.   0.   0.   0.   0.   0.   0.   0.   0.   0.   0.   0.   0.   0.\n   0.   0.   0.   0.   0.   0.   0.   0.   0.   0.   0.   0.   0.   0.\n   0.   0.   0.   0.   0.   0.   0.   0.   0.   0.   0.   0.   0.   0.\n   0.   0.   0.   0.   0.   0.   0.   0.   0.   0.   0.   0.   0.   0.\n   0.   0.   0.   0.   0.   0.   0.   0.   0.   0.   0.   0.   0.   0.\n   0.   0.   0.   0.   0.   0.   0.   0.   0.   0.   0.   0.   0.   0.\n   0.   0.   0.   0.   0.   0.   0.   0.   0.   0.   0.   0.   0.   0.\n   0.   0.   0.   0.   0.   0.   0.   0.   0.   0.   0.   0.   0.   0.\n   0.   0.   0.   0.   0.   0.   0.   0.   0.   0.   0.   0.   0.   0.\n   0.   0.   0.   0.   0.   0.   0.   0.   0.   0.   0.   0.   0.   0.\n   0.   0.   0.   0.   0.   0.   0.   0.   0.   0.   0.   0.   0.   0.\n   0.   0.   0.   0.   0.   0.   0.   0.   0.   0.   0.   0.   0.   0.\n   0.   0.   0.   0.   0.   0.   0.   0.   0.   0.   0.   0.   0.   0.\n   0.   0.   0.   0.   0.   0.   0.   0.   0.   0.   0.   0.   0.   0.\n   0.   0.   0.   0.   0.   0.  84. 185. 159. 151.  60.  36.   0.   0.\n   0.   0.   0.   0.   0.   0.   0.   0.   0.   0.   0.   0.   0.   0.\n   0.   0.   0.   0.   0.   0. 222. 254. 254. 254. 254. 241. 198. 198.\n 198. 198. 198. 198. 198. 198. 170.  52.   0.   0.   0.   0.   0.   0.\n   0.   0.   0.   0.   0.   0.  67. 114.  72. 114. 163. 227. 254. 225.\n 254. 254. 254. 250. 229. 254. 254. 140.   0.   0.   0.   0.   0.   0.\n   0.   0.   0.   0.   0.   0.   0.   0.   0.   0.   0.  17.  66.  14.\n  67.  67.  67.  59.  21. 236. 254. 106.   0.   0.   0.   0.   0.   0.\n   0.   0.   0.   0.   0.   0.   0.   0.   0.   0.   0.   0.   0.   0.\n   0.   0.   0.   0.  83. 253. 209.  18.   0.   0.   0.   0.   0.   0.\n   0.   0.   0.   0.   0.   0.   0.   0.   0.   0.   0.   0.   0.   0.\n   0.   0.   0.  22. 233. 255.  83.   0.   0.   0.   0.   0.   0.   0.\n   0.   0.   0.   0.   0.   0.   0.   0.   0.   0.   0.   0.   0.   0.\n   0.   0.   0. 129. 254. 238.  44.   0.   0.   0.   0.   0.   0.   0.\n   0.   0.   0.   0.   0.   0.   0.   0.   0.   0.   0.   0.   0.   0.\n   0.   0.  59. 249. 254.  62.   0.   0.   0.   0.   0.   0.   0.   0.\n   0.   0.   0.   0.   0.   0.   0.   0.   0.   0.   0.   0.   0.   0.\n   0.   0. 133. 254. 187.   5.   0.   0.   0.   0.   0.   0.   0.   0.\n   0.   0.   0.   0.   0.   0.   0.   0.   0.   0.   0.   0.   0.   0.\n   0.   9. 205. 248.  58.   0.   0.   0.   0.   0.   0.   0.   0.   0.\n   0.   0.   0.   0.   0.   0.   0.   0.   0.   0.   0.   0.   0.   0.\n   0. 126. 254. 182.   0.   0.   0.   0.   0.   0.   0.   0.   0.   0.\n   0.   0.   0.   0.   0.   0.   0.   0.   0.   0.   0.   0.   0.   0.\n  75. 251. 240.  57.   0.   0.   0.   0.   0.   0.   0.   0.   0.   0.\n   0.   0.   0.   0.   0.   0.   0.   0.   0.   0.   0.   0.   0.  19.\n 221. 254. 166.   0.   0.   0.   0.   0.   0.   0.   0.   0.   0.   0.\n   0.   0.   0.   0.   0.   0.   0.   0.   0.   0.   0.   0.   3. 203.\n 254. 219.  35.   0.   0.   0.   0.   0.   0.   0.   0.   0.   0.   0.\n   0.   0.   0.   0.   0.   0.   0.   0.   0.   0.   0.   0.  38. 254.\n 254.  77.   0.   0.   0.   0.   0.   0.   0.   0.   0.   0.   0.   0.\n   0.   0.   0.   0.   0.   0.   0.   0.   0.   0.   0.  31. 224. 254.\n 115.   1.   0.   0.   0.   0.   0.   0.   0.   0.   0.   0.   0.   0.\n   0.   0.   0.   0.   0.   0.   0.   0.   0.   0.   0. 133. 254. 254.\n  52.   0.   0.   0.   0.   0.   0.   0.   0.   0.   0.   0.   0.   0.\n   0.   0.   0.   0.   0.   0.   0.   0.   0.   0.  61. 242. 254. 254.\n  52.   0.   0.   0.   0.   0.   0.   0.   0.   0.   0.   0.   0.   0.\n   0.   0.   0.   0.   0.   0.   0.   0.   0.   0. 121. 254. 254. 219.\n  40.   0.   0.   0.   0.   0.   0.   0.   0.   0.   0.   0.   0.   0.\n   0.   0.   0.   0.   0.   0.   0.   0.   0.   0. 121. 254. 207.  18.\n   0.   0.   0.   0.   0.   0.   0.   0.   0.   0.   0.   0.   0.   0.\n   0.   0.   0.   0.   0.   0.   0.   0.   0.   0.   0.   0.   0.   0.\n   0.   0.   0.   0.   0.   0.   0.   0.   0.   0.   0.   0.   0.   0.].\nReshape your data either using array.reshape(-1, 1) if your data has a single feature or array.reshape(1, -1) if it contains a single sample.",
     "output_type": "error",
     "traceback": [
      "\u001b[31m---------------------------------------------------------------------------\u001b[39m",
      "\u001b[31mValueError\u001b[39m                                Traceback (most recent call last)",
      "\u001b[36mCell\u001b[39m\u001b[36m \u001b[39m\u001b[32mIn[30]\u001b[39m\u001b[32m, line 4\u001b[39m\n\u001b[32m      1\u001b[39m num_classes = \u001b[32m10\u001b[39m\n\u001b[32m      3\u001b[39m models = learn_mul2bin(x_train, y_train, num_classes)\n\u001b[32m----> \u001b[39m\u001b[32m4\u001b[39m preds = np.array([\u001b[43minference_mul2bin\u001b[49m\u001b[43m(\u001b[49m\u001b[43mx\u001b[49m\u001b[43m,\u001b[49m\u001b[43m \u001b[49m\u001b[43mmodels\u001b[49m\u001b[43m)\u001b[49m \u001b[38;5;28;01mfor\u001b[39;00m x \u001b[38;5;129;01min\u001b[39;00m x_test])\n\u001b[32m      5\u001b[39m accuracy = np.sum(preds == y_test) / y_test.shape[\u001b[32m0\u001b[39m]\n\u001b[32m      6\u001b[39m \u001b[38;5;28mprint\u001b[39m(\u001b[33m'\u001b[39m\u001b[33mAccuracy:\u001b[39m\u001b[33m'\u001b[39m, accuracy)\n",
      "\u001b[36mCell\u001b[39m\u001b[36m \u001b[39m\u001b[32mIn[29]\u001b[39m\u001b[32m, line 20\u001b[39m, in \u001b[36minference_mul2bin\u001b[39m\u001b[34m(X, lrs)\u001b[39m\n\u001b[32m     18\u001b[39m predictions = []\n\u001b[32m     19\u001b[39m \u001b[38;5;28;01mfor\u001b[39;00m lr \u001b[38;5;129;01min\u001b[39;00m lrs:\n\u001b[32m---> \u001b[39m\u001b[32m20\u001b[39m     predictions.append(\u001b[43mlr\u001b[49m\u001b[43m.\u001b[49m\u001b[43mpredict_proba\u001b[49m\u001b[43m(\u001b[49m\u001b[43mX\u001b[49m\u001b[43m)\u001b[49m[:, \u001b[32m1\u001b[39m]) \u001b[38;5;66;03m# 각 모델의 예측 확률 계산\u001b[39;00m\n\u001b[32m     21\u001b[39m y_pred = np.argmax(np.array(predictions).T, axis=\u001b[32m1\u001b[39m) \u001b[38;5;66;03m# 가장 높은 확률을 갖는 클래스 선택\u001b[39;00m\n\u001b[32m     22\u001b[39m \u001b[38;5;66;03m#############################################################\u001b[39;00m\n",
      "\u001b[36mFile \u001b[39m\u001b[32m~\\AppData\\Local\\Programs\\Python\\Python313\\Lib\\site-packages\\sklearn\\linear_model\\_logistic.py:1428\u001b[39m, in \u001b[36mLogisticRegression.predict_proba\u001b[39m\u001b[34m(self, X)\u001b[39m\n\u001b[32m   1423\u001b[39m ovr = \u001b[38;5;28mself\u001b[39m.multi_class \u001b[38;5;129;01min\u001b[39;00m [\u001b[33m\"\u001b[39m\u001b[33movr\u001b[39m\u001b[33m\"\u001b[39m, \u001b[33m\"\u001b[39m\u001b[33mwarn\u001b[39m\u001b[33m\"\u001b[39m] \u001b[38;5;129;01mor\u001b[39;00m (\n\u001b[32m   1424\u001b[39m     \u001b[38;5;28mself\u001b[39m.multi_class \u001b[38;5;129;01min\u001b[39;00m [\u001b[33m\"\u001b[39m\u001b[33mauto\u001b[39m\u001b[33m\"\u001b[39m, \u001b[33m\"\u001b[39m\u001b[33mdeprecated\u001b[39m\u001b[33m\"\u001b[39m]\n\u001b[32m   1425\u001b[39m     \u001b[38;5;129;01mand\u001b[39;00m (\u001b[38;5;28mself\u001b[39m.classes_.size <= \u001b[32m2\u001b[39m \u001b[38;5;129;01mor\u001b[39;00m \u001b[38;5;28mself\u001b[39m.solver == \u001b[33m\"\u001b[39m\u001b[33mliblinear\u001b[39m\u001b[33m\"\u001b[39m)\n\u001b[32m   1426\u001b[39m )\n\u001b[32m   1427\u001b[39m \u001b[38;5;28;01mif\u001b[39;00m ovr:\n\u001b[32m-> \u001b[39m\u001b[32m1428\u001b[39m     \u001b[38;5;28;01mreturn\u001b[39;00m \u001b[38;5;28;43msuper\u001b[39;49m\u001b[43m(\u001b[49m\u001b[43m)\u001b[49m\u001b[43m.\u001b[49m\u001b[43m_predict_proba_lr\u001b[49m\u001b[43m(\u001b[49m\u001b[43mX\u001b[49m\u001b[43m)\u001b[49m\n\u001b[32m   1429\u001b[39m \u001b[38;5;28;01melse\u001b[39;00m:\n\u001b[32m   1430\u001b[39m     decision = \u001b[38;5;28mself\u001b[39m.decision_function(X)\n",
      "\u001b[36mFile \u001b[39m\u001b[32m~\\AppData\\Local\\Programs\\Python\\Python313\\Lib\\site-packages\\sklearn\\linear_model\\_base.py:389\u001b[39m, in \u001b[36mLinearClassifierMixin._predict_proba_lr\u001b[39m\u001b[34m(self, X)\u001b[39m\n\u001b[32m    382\u001b[39m \u001b[38;5;28;01mdef\u001b[39;00m\u001b[38;5;250m \u001b[39m\u001b[34m_predict_proba_lr\u001b[39m(\u001b[38;5;28mself\u001b[39m, X):\n\u001b[32m    383\u001b[39m \u001b[38;5;250m    \u001b[39m\u001b[33;03m\"\"\"Probability estimation for OvR logistic regression.\u001b[39;00m\n\u001b[32m    384\u001b[39m \n\u001b[32m    385\u001b[39m \u001b[33;03m    Positive class probabilities are computed as\u001b[39;00m\n\u001b[32m    386\u001b[39m \u001b[33;03m    1. / (1. + np.exp(-self.decision_function(X)));\u001b[39;00m\n\u001b[32m    387\u001b[39m \u001b[33;03m    multiclass is handled by normalizing that over all classes.\u001b[39;00m\n\u001b[32m    388\u001b[39m \u001b[33;03m    \"\"\"\u001b[39;00m\n\u001b[32m--> \u001b[39m\u001b[32m389\u001b[39m     prob = \u001b[38;5;28;43mself\u001b[39;49m\u001b[43m.\u001b[49m\u001b[43mdecision_function\u001b[49m\u001b[43m(\u001b[49m\u001b[43mX\u001b[49m\u001b[43m)\u001b[49m\n\u001b[32m    390\u001b[39m     expit(prob, out=prob)\n\u001b[32m    391\u001b[39m     \u001b[38;5;28;01mif\u001b[39;00m prob.ndim == \u001b[32m1\u001b[39m:\n",
      "\u001b[36mFile \u001b[39m\u001b[32m~\\AppData\\Local\\Programs\\Python\\Python313\\Lib\\site-packages\\sklearn\\linear_model\\_base.py:351\u001b[39m, in \u001b[36mLinearClassifierMixin.decision_function\u001b[39m\u001b[34m(self, X)\u001b[39m\n\u001b[32m    348\u001b[39m check_is_fitted(\u001b[38;5;28mself\u001b[39m)\n\u001b[32m    349\u001b[39m xp, _ = get_namespace(X)\n\u001b[32m--> \u001b[39m\u001b[32m351\u001b[39m X = \u001b[43mvalidate_data\u001b[49m\u001b[43m(\u001b[49m\u001b[38;5;28;43mself\u001b[39;49m\u001b[43m,\u001b[49m\u001b[43m \u001b[49m\u001b[43mX\u001b[49m\u001b[43m,\u001b[49m\u001b[43m \u001b[49m\u001b[43maccept_sparse\u001b[49m\u001b[43m=\u001b[49m\u001b[33;43m\"\u001b[39;49m\u001b[33;43mcsr\u001b[39;49m\u001b[33;43m\"\u001b[39;49m\u001b[43m,\u001b[49m\u001b[43m \u001b[49m\u001b[43mreset\u001b[49m\u001b[43m=\u001b[49m\u001b[38;5;28;43;01mFalse\u001b[39;49;00m\u001b[43m)\u001b[49m\n\u001b[32m    352\u001b[39m scores = safe_sparse_dot(X, \u001b[38;5;28mself\u001b[39m.coef_.T, dense_output=\u001b[38;5;28;01mTrue\u001b[39;00m) + \u001b[38;5;28mself\u001b[39m.intercept_\n\u001b[32m    353\u001b[39m \u001b[38;5;28;01mreturn\u001b[39;00m (\n\u001b[32m    354\u001b[39m     xp.reshape(scores, (-\u001b[32m1\u001b[39m,))\n\u001b[32m    355\u001b[39m     \u001b[38;5;28;01mif\u001b[39;00m (scores.ndim > \u001b[32m1\u001b[39m \u001b[38;5;129;01mand\u001b[39;00m scores.shape[\u001b[32m1\u001b[39m] == \u001b[32m1\u001b[39m)\n\u001b[32m    356\u001b[39m     \u001b[38;5;28;01melse\u001b[39;00m scores\n\u001b[32m    357\u001b[39m )\n",
      "\u001b[36mFile \u001b[39m\u001b[32m~\\AppData\\Local\\Programs\\Python\\Python313\\Lib\\site-packages\\sklearn\\utils\\validation.py:2944\u001b[39m, in \u001b[36mvalidate_data\u001b[39m\u001b[34m(_estimator, X, y, reset, validate_separately, skip_check_array, **check_params)\u001b[39m\n\u001b[32m   2942\u001b[39m         out = X, y\n\u001b[32m   2943\u001b[39m \u001b[38;5;28;01melif\u001b[39;00m \u001b[38;5;129;01mnot\u001b[39;00m no_val_X \u001b[38;5;129;01mand\u001b[39;00m no_val_y:\n\u001b[32m-> \u001b[39m\u001b[32m2944\u001b[39m     out = \u001b[43mcheck_array\u001b[49m\u001b[43m(\u001b[49m\u001b[43mX\u001b[49m\u001b[43m,\u001b[49m\u001b[43m \u001b[49m\u001b[43minput_name\u001b[49m\u001b[43m=\u001b[49m\u001b[33;43m\"\u001b[39;49m\u001b[33;43mX\u001b[39;49m\u001b[33;43m\"\u001b[39;49m\u001b[43m,\u001b[49m\u001b[43m \u001b[49m\u001b[43m*\u001b[49m\u001b[43m*\u001b[49m\u001b[43mcheck_params\u001b[49m\u001b[43m)\u001b[49m\n\u001b[32m   2945\u001b[39m \u001b[38;5;28;01melif\u001b[39;00m no_val_X \u001b[38;5;129;01mand\u001b[39;00m \u001b[38;5;129;01mnot\u001b[39;00m no_val_y:\n\u001b[32m   2946\u001b[39m     out = _check_y(y, **check_params)\n",
      "\u001b[36mFile \u001b[39m\u001b[32m~\\AppData\\Local\\Programs\\Python\\Python313\\Lib\\site-packages\\sklearn\\utils\\validation.py:1093\u001b[39m, in \u001b[36mcheck_array\u001b[39m\u001b[34m(array, accept_sparse, accept_large_sparse, dtype, order, copy, force_writeable, force_all_finite, ensure_all_finite, ensure_non_negative, ensure_2d, allow_nd, ensure_min_samples, ensure_min_features, estimator, input_name)\u001b[39m\n\u001b[32m   1086\u001b[39m         \u001b[38;5;28;01melse\u001b[39;00m:\n\u001b[32m   1087\u001b[39m             msg = (\n\u001b[32m   1088\u001b[39m                 \u001b[33mf\u001b[39m\u001b[33m\"\u001b[39m\u001b[33mExpected 2D array, got 1D array instead:\u001b[39m\u001b[38;5;130;01m\\n\u001b[39;00m\u001b[33marray=\u001b[39m\u001b[38;5;132;01m{\u001b[39;00marray\u001b[38;5;132;01m}\u001b[39;00m\u001b[33m.\u001b[39m\u001b[38;5;130;01m\\n\u001b[39;00m\u001b[33m\"\u001b[39m\n\u001b[32m   1089\u001b[39m                 \u001b[33m\"\u001b[39m\u001b[33mReshape your data either using array.reshape(-1, 1) if \u001b[39m\u001b[33m\"\u001b[39m\n\u001b[32m   1090\u001b[39m                 \u001b[33m\"\u001b[39m\u001b[33myour data has a single feature or array.reshape(1, -1) \u001b[39m\u001b[33m\"\u001b[39m\n\u001b[32m   1091\u001b[39m                 \u001b[33m\"\u001b[39m\u001b[33mif it contains a single sample.\u001b[39m\u001b[33m\"\u001b[39m\n\u001b[32m   1092\u001b[39m             )\n\u001b[32m-> \u001b[39m\u001b[32m1093\u001b[39m         \u001b[38;5;28;01mraise\u001b[39;00m \u001b[38;5;167;01mValueError\u001b[39;00m(msg)\n\u001b[32m   1095\u001b[39m \u001b[38;5;28;01mif\u001b[39;00m dtype_numeric \u001b[38;5;129;01mand\u001b[39;00m \u001b[38;5;28mhasattr\u001b[39m(array.dtype, \u001b[33m\"\u001b[39m\u001b[33mkind\u001b[39m\u001b[33m\"\u001b[39m) \u001b[38;5;129;01mand\u001b[39;00m array.dtype.kind \u001b[38;5;129;01min\u001b[39;00m \u001b[33m\"\u001b[39m\u001b[33mUSV\u001b[39m\u001b[33m\"\u001b[39m:\n\u001b[32m   1096\u001b[39m     \u001b[38;5;28;01mraise\u001b[39;00m \u001b[38;5;167;01mValueError\u001b[39;00m(\n\u001b[32m   1097\u001b[39m         \u001b[33m\"\u001b[39m\u001b[33mdtype=\u001b[39m\u001b[33m'\u001b[39m\u001b[33mnumeric\u001b[39m\u001b[33m'\u001b[39m\u001b[33m is not compatible with arrays of bytes/strings.\u001b[39m\u001b[33m\"\u001b[39m\n\u001b[32m   1098\u001b[39m         \u001b[33m\"\u001b[39m\u001b[33mConvert your data to numeric values explicitly instead.\u001b[39m\u001b[33m\"\u001b[39m\n\u001b[32m   1099\u001b[39m     )\n",
      "\u001b[31mValueError\u001b[39m: Expected 2D array, got 1D array instead:\narray=[  0.   0.   0.   0.   0.   0.   0.   0.   0.   0.   0.   0.   0.   0.\n   0.   0.   0.   0.   0.   0.   0.   0.   0.   0.   0.   0.   0.   0.\n   0.   0.   0.   0.   0.   0.   0.   0.   0.   0.   0.   0.   0.   0.\n   0.   0.   0.   0.   0.   0.   0.   0.   0.   0.   0.   0.   0.   0.\n   0.   0.   0.   0.   0.   0.   0.   0.   0.   0.   0.   0.   0.   0.\n   0.   0.   0.   0.   0.   0.   0.   0.   0.   0.   0.   0.   0.   0.\n   0.   0.   0.   0.   0.   0.   0.   0.   0.   0.   0.   0.   0.   0.\n   0.   0.   0.   0.   0.   0.   0.   0.   0.   0.   0.   0.   0.   0.\n   0.   0.   0.   0.   0.   0.   0.   0.   0.   0.   0.   0.   0.   0.\n   0.   0.   0.   0.   0.   0.   0.   0.   0.   0.   0.   0.   0.   0.\n   0.   0.   0.   0.   0.   0.   0.   0.   0.   0.   0.   0.   0.   0.\n   0.   0.   0.   0.   0.   0.   0.   0.   0.   0.   0.   0.   0.   0.\n   0.   0.   0.   0.   0.   0.   0.   0.   0.   0.   0.   0.   0.   0.\n   0.   0.   0.   0.   0.   0.   0.   0.   0.   0.   0.   0.   0.   0.\n   0.   0.   0.   0.   0.   0.  84. 185. 159. 151.  60.  36.   0.   0.\n   0.   0.   0.   0.   0.   0.   0.   0.   0.   0.   0.   0.   0.   0.\n   0.   0.   0.   0.   0.   0. 222. 254. 254. 254. 254. 241. 198. 198.\n 198. 198. 198. 198. 198. 198. 170.  52.   0.   0.   0.   0.   0.   0.\n   0.   0.   0.   0.   0.   0.  67. 114.  72. 114. 163. 227. 254. 225.\n 254. 254. 254. 250. 229. 254. 254. 140.   0.   0.   0.   0.   0.   0.\n   0.   0.   0.   0.   0.   0.   0.   0.   0.   0.   0.  17.  66.  14.\n  67.  67.  67.  59.  21. 236. 254. 106.   0.   0.   0.   0.   0.   0.\n   0.   0.   0.   0.   0.   0.   0.   0.   0.   0.   0.   0.   0.   0.\n   0.   0.   0.   0.  83. 253. 209.  18.   0.   0.   0.   0.   0.   0.\n   0.   0.   0.   0.   0.   0.   0.   0.   0.   0.   0.   0.   0.   0.\n   0.   0.   0.  22. 233. 255.  83.   0.   0.   0.   0.   0.   0.   0.\n   0.   0.   0.   0.   0.   0.   0.   0.   0.   0.   0.   0.   0.   0.\n   0.   0.   0. 129. 254. 238.  44.   0.   0.   0.   0.   0.   0.   0.\n   0.   0.   0.   0.   0.   0.   0.   0.   0.   0.   0.   0.   0.   0.\n   0.   0.  59. 249. 254.  62.   0.   0.   0.   0.   0.   0.   0.   0.\n   0.   0.   0.   0.   0.   0.   0.   0.   0.   0.   0.   0.   0.   0.\n   0.   0. 133. 254. 187.   5.   0.   0.   0.   0.   0.   0.   0.   0.\n   0.   0.   0.   0.   0.   0.   0.   0.   0.   0.   0.   0.   0.   0.\n   0.   9. 205. 248.  58.   0.   0.   0.   0.   0.   0.   0.   0.   0.\n   0.   0.   0.   0.   0.   0.   0.   0.   0.   0.   0.   0.   0.   0.\n   0. 126. 254. 182.   0.   0.   0.   0.   0.   0.   0.   0.   0.   0.\n   0.   0.   0.   0.   0.   0.   0.   0.   0.   0.   0.   0.   0.   0.\n  75. 251. 240.  57.   0.   0.   0.   0.   0.   0.   0.   0.   0.   0.\n   0.   0.   0.   0.   0.   0.   0.   0.   0.   0.   0.   0.   0.  19.\n 221. 254. 166.   0.   0.   0.   0.   0.   0.   0.   0.   0.   0.   0.\n   0.   0.   0.   0.   0.   0.   0.   0.   0.   0.   0.   0.   3. 203.\n 254. 219.  35.   0.   0.   0.   0.   0.   0.   0.   0.   0.   0.   0.\n   0.   0.   0.   0.   0.   0.   0.   0.   0.   0.   0.   0.  38. 254.\n 254.  77.   0.   0.   0.   0.   0.   0.   0.   0.   0.   0.   0.   0.\n   0.   0.   0.   0.   0.   0.   0.   0.   0.   0.   0.  31. 224. 254.\n 115.   1.   0.   0.   0.   0.   0.   0.   0.   0.   0.   0.   0.   0.\n   0.   0.   0.   0.   0.   0.   0.   0.   0.   0.   0. 133. 254. 254.\n  52.   0.   0.   0.   0.   0.   0.   0.   0.   0.   0.   0.   0.   0.\n   0.   0.   0.   0.   0.   0.   0.   0.   0.   0.  61. 242. 254. 254.\n  52.   0.   0.   0.   0.   0.   0.   0.   0.   0.   0.   0.   0.   0.\n   0.   0.   0.   0.   0.   0.   0.   0.   0.   0. 121. 254. 254. 219.\n  40.   0.   0.   0.   0.   0.   0.   0.   0.   0.   0.   0.   0.   0.\n   0.   0.   0.   0.   0.   0.   0.   0.   0.   0. 121. 254. 207.  18.\n   0.   0.   0.   0.   0.   0.   0.   0.   0.   0.   0.   0.   0.   0.\n   0.   0.   0.   0.   0.   0.   0.   0.   0.   0.   0.   0.   0.   0.\n   0.   0.   0.   0.   0.   0.   0.   0.   0.   0.   0.   0.   0.   0.].\nReshape your data either using array.reshape(-1, 1) if your data has a single feature or array.reshape(1, -1) if it contains a single sample."
     ]
    }
   ],
   "source": [
    "num_classes = 10\n",
    "\n",
    "models = learn_mul2bin(x_train, y_train, num_classes)\n",
    "preds = np.array([inference_mul2bin(x, models) for x in x_test])\n",
    "accuracy = np.sum(preds == y_test) / y_test.shape[0]\n",
    "print('Accuracy:', accuracy)"
   ]
  },
  {
   "cell_type": "markdown",
   "metadata": {
    "id": "RZU2mqKXEkVf"
   },
   "source": [
    "## Problem 2. Logistic Regression을 활용한 임의의 데이터셋 분류 실습\n",
    "\n",
    "**이번 문제에서는 seaborn 라이브러리의 titanic dataset을 활용하여 분류를 실습해볼 것입니다.** titanic dataset은 1912년 타이타닉 호 침몰 사고 당시 승객들의 정보를 담고 있으며, 생존 여부를 비롯한 다양한 특성으로 구성된 데이터셋입니다. 해당 데이터셋에 존재하는 승객들의 다양한 특성들을 활용하여 승객의 생존 여부를 logistic regression 알고리즘으로 분류하는 실습을 진행해보겠습니다.\n",
    "\n",
    "자세히 설명하자면, 승객의 성별(sex), 나이(age), 탑승 요금(fare), 객실 등급(class), 함께 탑승한 가족 구성원 수(sibsp, parch), 탑승한 도시(embark_town), 혼자 탑승했는 지 여부(alone)을 활용하여 생존 여부(survived)를 예측합니다.  \n",
    "데이터셋에 대한 추가적인 설명은 아래 링크를 참조하세요.   \n",
    "(참고: https://www.kaggle.com/c/titanic/data)\n",
    "\n",
    "앞의 실습 내용들을 참고하여 numpy로 여러 변수에 대한 logistic regression을 구현하세요.  \n",
    "LLM을 도구로 활용하여 구현하여도 괜찮습니다.  \n",
    "\n",
    "**※ 수업 시간에 배운 logistic regression의 성능을 올리기 위한 여러 방식들을 활용하여 최대한 성능을 높여보세요.**  \n",
    "(ex. L1, L2 regularization, polynomial features 등)"
   ]
  },
  {
   "cell_type": "code",
   "execution_count": null,
   "metadata": {
    "id": "1nYKfA4tFAQb"
   },
   "outputs": [],
   "source": [
    "################################### Dataset Preprocessing #############################################\n",
    "import seaborn as sns\n",
    "import pandas as pd\n",
    "from sklearn.preprocessing import StandardScaler, OneHotEncoder\n",
    "\n",
    "df = sns.load_dataset('titanic')\n",
    "\n",
    "# 데이터 확인\n",
    "print(df.head())\n",
    "\n",
    "df = df[['sex', 'age', 'fare', 'class', 'sibsp', 'parch', 'embark_town', 'alone', 'survived']].dropna()\n",
    "\n",
    "# 범주형 데이터 인코딩\n",
    "df['sex'] = df['sex'].map({'male': 0, 'female': 1})   # 성별 숫자로 변환\n",
    "df['class'] = df['class'].map({'First': 1, 'Second': 2, 'Third': 3})  # 좌석 등급 숫자로 변환\n",
    "df['alone'] = df['alone'].astype(int)  # 혼자 탑승 여부 (Boolean → int 변환)\n",
    "\n",
    "# 원핫 인코딩 (탑승 도시)\n",
    "df = pd.get_dummies(df, columns=['embark_town'], drop_first=True)\n",
    "\n",
    "X = df.drop(columns=['survived'])\n",
    "y = df['survived']"
   ]
  },
  {
   "cell_type": "code",
   "execution_count": null,
   "metadata": {
    "id": "roG_4gRnhCqO"
   },
   "outputs": [],
   "source": [
    "from sklearn.model_selection import train_test_split\n",
    "\n",
    "# 데이터 분할 (80% 학습, 20% 테스트)\n",
    "X_train, X_test, y_train, y_test = train_test_split(X, y, test_size=0.2, random_state=42)\n",
    "\n",
    "scaler = StandardScaler()\n",
    "X_train_scaled = scaler.fit_transform(X_train)\n",
    "X_test_scaled = scaler.transform(X_test)"
   ]
  },
  {
   "cell_type": "code",
   "execution_count": null,
   "metadata": {
    "colab": {
     "base_uri": "https://localhost:8080/",
     "height": 111
    },
    "executionInfo": {
     "elapsed": 19,
     "status": "error",
     "timestamp": 1740319207067,
     "user": {
      "displayName": "Cody Song",
      "userId": "05250416816858502527"
     },
     "user_tz": -540
    },
    "id": "Qh08tR7QEkkD",
    "outputId": "10fec2c1-6f0f-47ad-ee02-d0928105243f"
   },
   "outputs": [],
   "source": [
    "import numpy as np\n",
    "from sklearn.metrics import accuracy_score\n",
    "\n",
    "class LogisticRegression:\n",
    "    def __init__(self, ): # <<< You can add your own input parameters\n",
    "        ################# YOUR CODE COMES HERE ######################\n",
    "        # initialize class member variable\n",
    "\n",
    "        #############################################################\n",
    "\n",
    "    def sigmoid(self, z):\n",
    "        # YOUR CODE COMES HERE\n",
    "        return\n",
    "\n",
    "    def fit(self, X, y):\n",
    "        ################# YOUR CODE COMES HERE ######################\n",
    "        # training model here\n",
    "\n",
    "        #############################################################\n",
    "        return\n",
    "\n",
    "    def predict(self, X):\n",
    "        ################# YOUR CODE COMES HERE ######################\n",
    "        # return predicted y\n",
    "\n",
    "        #############################################################\n",
    "        return\n",
    "\n",
    "    # You can add your own member functions\n",
    "\n",
    "model = LogisticRegression( ) ##### ADD YOUR OWN INPUT PARAMETERS\n",
    "\n",
    "# 모델 학습 및 예측\n",
    "model.fit(X_train_scaled, y_train)\n",
    "y_pred = model.predict(X_test_scaled)\n",
    "\n",
    "# 정확도 평가\n",
    "accuracy = accuracy_score(y_test, y_pred)\n",
    "print(f\"모델 정확도: {accuracy:.4f}\")\n"
   ]
  }
 ],
 "metadata": {
  "anaconda-cloud": {},
  "colab": {
   "provenance": [
    {
     "file_id": "1br9I49jKldloi3aOJ6HPGtq3RLU9h5ft",
     "timestamp": 1583728216996
    }
   ]
  },
  "kernelspec": {
   "display_name": "Python 3 (ipykernel)",
   "language": "python",
   "name": "python3"
  },
  "language_info": {
   "codemirror_mode": {
    "name": "ipython",
    "version": 3
   },
   "file_extension": ".py",
   "mimetype": "text/x-python",
   "name": "python",
   "nbconvert_exporter": "python",
   "pygments_lexer": "ipython3",
   "version": "3.13.1"
  },
  "vscode": {
   "interpreter": {
    "hash": "b0b5d2b764069d04ae05c697c65ef1186248c0f69c25ae497443bad4761b2ec0"
   }
  }
 },
 "nbformat": 4,
 "nbformat_minor": 4
}
